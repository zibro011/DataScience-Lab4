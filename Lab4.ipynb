{
  "nbformat": 4,
  "nbformat_minor": 0,
  "metadata": {
    "colab": {
      "name": "Lab4.ipynb",
      "provenance": [],
      "collapsed_sections": [],
      "include_colab_link": true
    },
    "kernelspec": {
      "name": "python3",
      "display_name": "Python 3"
    },
    "language_info": {
      "name": "python"
    }
  },
  "cells": [
    {
      "cell_type": "markdown",
      "metadata": {
        "id": "view-in-github",
        "colab_type": "text"
      },
      "source": [
        "<a href=\"https://colab.research.google.com/github/zibro011/DataScience-Lab4/blob/main/Lab4.ipynb\" target=\"_parent\"><img src=\"https://colab.research.google.com/assets/colab-badge.svg\" alt=\"Open In Colab\"/></a>"
      ]
    },
    {
      "cell_type": "markdown",
      "metadata": {
        "id": "COwfcrKn9JU0"
      },
      "source": [
        "**INET 4061 Lab 4** <br>\n",
        "**Adelaide Zibrowski** <br>\n",
        "**October 10, 2021** <br>\n"
      ]
    },
    {
      "cell_type": "markdown",
      "metadata": {
        "id": "IxjKYSKL9yOh"
      },
      "source": [
        "#Overview\n",
        "The purpose of this lab is to analyze data regarding diabetes patients to see what, if any, variables play a role in disease progression(DPV). We will be using linear regression and multiple linear regression to answer this question. Linear regression shows us how strongly statistically related one dependent and one indepent variable are. Multiple linear regression is different because it takes all of the independent variables into account within a single equation. "
      ]
    },
    {
      "cell_type": "markdown",
      "metadata": {
        "id": "gYj_hEk090-X"
      },
      "source": [
        "#Data <br>\n",
        "The following data is collected from the scikit-learn diabetes database."
      ]
    },
    {
      "cell_type": "code",
      "metadata": {
        "id": "0eC9ydsG71EU",
        "colab": {
          "base_uri": "https://localhost:8080/"
        },
        "outputId": "488150e2-c9e3-4b1f-ff3a-55ae0169b24e"
      },
      "source": [
        "#import necessary libraries\n",
        "import numpy as np\n",
        "from sklearn import datasets, linear_model, metrics\n",
        "import pandas as pd\n",
        "import seaborn as sns\n",
        "import matplotlib.pyplot as plt\n",
        "from statsmodels.stats.outliers_influence import variance_inflation_factor \n",
        "from sklearn.metrics import mean_squared_error, r2_score\n",
        "from sklearn.model_selection import train_test_split\n",
        "from sklearn.linear_model import LinearRegression"
      ],
      "execution_count": null,
      "outputs": [
        {
          "output_type": "stream",
          "name": "stderr",
          "text": [
            "/usr/local/lib/python3.7/dist-packages/statsmodels/tools/_testing.py:19: FutureWarning: pandas.util.testing is deprecated. Use the functions in the public API at pandas.testing instead.\n",
            "  import pandas.util.testing as tm\n"
          ]
        }
      ]
    },
    {
      "cell_type": "code",
      "metadata": {
        "id": "U3bWDnZv-ZS6",
        "colab": {
          "base_uri": "https://localhost:8080/"
        },
        "outputId": "1c3ca212-99e4-4181-beb5-a49e622488e6"
      },
      "source": [
        "#load dataset\n",
        "diabetes = datasets.load_diabetes()\n",
        "type(diabetes)"
      ],
      "execution_count": null,
      "outputs": [
        {
          "output_type": "execute_result",
          "data": {
            "text/plain": [
              "sklearn.utils.Bunch"
            ]
          },
          "metadata": {},
          "execution_count": 3
        }
      ]
    },
    {
      "cell_type": "code",
      "metadata": {
        "id": "ILde-GFxKaq-"
      },
      "source": [
        "#convert to pandas dataframe\n",
        "df = pd.DataFrame(data = diabetes.data, columns=diabetes.feature_names)\n",
        "target_df = pd.DataFrame(data = diabetes.target)\n"
      ],
      "execution_count": null,
      "outputs": []
    },
    {
      "cell_type": "markdown",
      "metadata": {
        "id": "IzyaC9el92Jr"
      },
      "source": [
        "#Exploratory Data Analysis (EDA)"
      ]
    },
    {
      "cell_type": "markdown",
      "metadata": {
        "id": "zPUloQgWBVP9"
      },
      "source": [
        "##Understand the Data"
      ]
    },
    {
      "cell_type": "code",
      "metadata": {
        "colab": {
          "base_uri": "https://localhost:8080/",
          "height": 206
        },
        "id": "m4FMomLci9us",
        "outputId": "0ca2a3b6-d0d3-4f57-ad41-a95843353323"
      },
      "source": [
        "#see first 5 rows of independent variables\n",
        "df.head()"
      ],
      "execution_count": null,
      "outputs": [
        {
          "output_type": "execute_result",
          "data": {
            "text/html": [
              "<div>\n",
              "<style scoped>\n",
              "    .dataframe tbody tr th:only-of-type {\n",
              "        vertical-align: middle;\n",
              "    }\n",
              "\n",
              "    .dataframe tbody tr th {\n",
              "        vertical-align: top;\n",
              "    }\n",
              "\n",
              "    .dataframe thead th {\n",
              "        text-align: right;\n",
              "    }\n",
              "</style>\n",
              "<table border=\"1\" class=\"dataframe\">\n",
              "  <thead>\n",
              "    <tr style=\"text-align: right;\">\n",
              "      <th></th>\n",
              "      <th>age</th>\n",
              "      <th>sex</th>\n",
              "      <th>bmi</th>\n",
              "      <th>bp</th>\n",
              "      <th>s1</th>\n",
              "      <th>s2</th>\n",
              "      <th>s3</th>\n",
              "      <th>s4</th>\n",
              "      <th>s5</th>\n",
              "      <th>s6</th>\n",
              "    </tr>\n",
              "  </thead>\n",
              "  <tbody>\n",
              "    <tr>\n",
              "      <th>0</th>\n",
              "      <td>0.038076</td>\n",
              "      <td>0.050680</td>\n",
              "      <td>0.061696</td>\n",
              "      <td>0.021872</td>\n",
              "      <td>-0.044223</td>\n",
              "      <td>-0.034821</td>\n",
              "      <td>-0.043401</td>\n",
              "      <td>-0.002592</td>\n",
              "      <td>0.019908</td>\n",
              "      <td>-0.017646</td>\n",
              "    </tr>\n",
              "    <tr>\n",
              "      <th>1</th>\n",
              "      <td>-0.001882</td>\n",
              "      <td>-0.044642</td>\n",
              "      <td>-0.051474</td>\n",
              "      <td>-0.026328</td>\n",
              "      <td>-0.008449</td>\n",
              "      <td>-0.019163</td>\n",
              "      <td>0.074412</td>\n",
              "      <td>-0.039493</td>\n",
              "      <td>-0.068330</td>\n",
              "      <td>-0.092204</td>\n",
              "    </tr>\n",
              "    <tr>\n",
              "      <th>2</th>\n",
              "      <td>0.085299</td>\n",
              "      <td>0.050680</td>\n",
              "      <td>0.044451</td>\n",
              "      <td>-0.005671</td>\n",
              "      <td>-0.045599</td>\n",
              "      <td>-0.034194</td>\n",
              "      <td>-0.032356</td>\n",
              "      <td>-0.002592</td>\n",
              "      <td>0.002864</td>\n",
              "      <td>-0.025930</td>\n",
              "    </tr>\n",
              "    <tr>\n",
              "      <th>3</th>\n",
              "      <td>-0.089063</td>\n",
              "      <td>-0.044642</td>\n",
              "      <td>-0.011595</td>\n",
              "      <td>-0.036656</td>\n",
              "      <td>0.012191</td>\n",
              "      <td>0.024991</td>\n",
              "      <td>-0.036038</td>\n",
              "      <td>0.034309</td>\n",
              "      <td>0.022692</td>\n",
              "      <td>-0.009362</td>\n",
              "    </tr>\n",
              "    <tr>\n",
              "      <th>4</th>\n",
              "      <td>0.005383</td>\n",
              "      <td>-0.044642</td>\n",
              "      <td>-0.036385</td>\n",
              "      <td>0.021872</td>\n",
              "      <td>0.003935</td>\n",
              "      <td>0.015596</td>\n",
              "      <td>0.008142</td>\n",
              "      <td>-0.002592</td>\n",
              "      <td>-0.031991</td>\n",
              "      <td>-0.046641</td>\n",
              "    </tr>\n",
              "  </tbody>\n",
              "</table>\n",
              "</div>"
            ],
            "text/plain": [
              "        age       sex       bmi  ...        s4        s5        s6\n",
              "0  0.038076  0.050680  0.061696  ... -0.002592  0.019908 -0.017646\n",
              "1 -0.001882 -0.044642 -0.051474  ... -0.039493 -0.068330 -0.092204\n",
              "2  0.085299  0.050680  0.044451  ... -0.002592  0.002864 -0.025930\n",
              "3 -0.089063 -0.044642 -0.011595  ...  0.034309  0.022692 -0.009362\n",
              "4  0.005383 -0.044642 -0.036385  ... -0.002592 -0.031991 -0.046641\n",
              "\n",
              "[5 rows x 10 columns]"
            ]
          },
          "metadata": {},
          "execution_count": 5
        }
      ]
    },
    {
      "cell_type": "code",
      "metadata": {
        "colab": {
          "base_uri": "https://localhost:8080/",
          "height": 206
        },
        "id": "sY_BOtTrS5yA",
        "outputId": "0941a7f2-4e12-4e5c-9943-eae9373a212b"
      },
      "source": [
        "#see first 5 rows of target variables\n",
        "target_df.head()"
      ],
      "execution_count": null,
      "outputs": [
        {
          "output_type": "execute_result",
          "data": {
            "text/html": [
              "<div>\n",
              "<style scoped>\n",
              "    .dataframe tbody tr th:only-of-type {\n",
              "        vertical-align: middle;\n",
              "    }\n",
              "\n",
              "    .dataframe tbody tr th {\n",
              "        vertical-align: top;\n",
              "    }\n",
              "\n",
              "    .dataframe thead th {\n",
              "        text-align: right;\n",
              "    }\n",
              "</style>\n",
              "<table border=\"1\" class=\"dataframe\">\n",
              "  <thead>\n",
              "    <tr style=\"text-align: right;\">\n",
              "      <th></th>\n",
              "      <th>0</th>\n",
              "    </tr>\n",
              "  </thead>\n",
              "  <tbody>\n",
              "    <tr>\n",
              "      <th>0</th>\n",
              "      <td>151.0</td>\n",
              "    </tr>\n",
              "    <tr>\n",
              "      <th>1</th>\n",
              "      <td>75.0</td>\n",
              "    </tr>\n",
              "    <tr>\n",
              "      <th>2</th>\n",
              "      <td>141.0</td>\n",
              "    </tr>\n",
              "    <tr>\n",
              "      <th>3</th>\n",
              "      <td>206.0</td>\n",
              "    </tr>\n",
              "    <tr>\n",
              "      <th>4</th>\n",
              "      <td>135.0</td>\n",
              "    </tr>\n",
              "  </tbody>\n",
              "</table>\n",
              "</div>"
            ],
            "text/plain": [
              "       0\n",
              "0  151.0\n",
              "1   75.0\n",
              "2  141.0\n",
              "3  206.0\n",
              "4  135.0"
            ]
          },
          "metadata": {},
          "execution_count": 6
        }
      ]
    },
    {
      "cell_type": "code",
      "metadata": {
        "colab": {
          "base_uri": "https://localhost:8080/",
          "height": 206
        },
        "id": "5vUgR6tWjGW4",
        "outputId": "fafe22fc-82eb-4ff8-bbf3-265f2160a6ff"
      },
      "source": [
        "#see last 5 rows of independent variables\n",
        "df.tail()"
      ],
      "execution_count": null,
      "outputs": [
        {
          "output_type": "execute_result",
          "data": {
            "text/html": [
              "<div>\n",
              "<style scoped>\n",
              "    .dataframe tbody tr th:only-of-type {\n",
              "        vertical-align: middle;\n",
              "    }\n",
              "\n",
              "    .dataframe tbody tr th {\n",
              "        vertical-align: top;\n",
              "    }\n",
              "\n",
              "    .dataframe thead th {\n",
              "        text-align: right;\n",
              "    }\n",
              "</style>\n",
              "<table border=\"1\" class=\"dataframe\">\n",
              "  <thead>\n",
              "    <tr style=\"text-align: right;\">\n",
              "      <th></th>\n",
              "      <th>age</th>\n",
              "      <th>sex</th>\n",
              "      <th>bmi</th>\n",
              "      <th>bp</th>\n",
              "      <th>s1</th>\n",
              "      <th>s2</th>\n",
              "      <th>s3</th>\n",
              "      <th>s4</th>\n",
              "      <th>s5</th>\n",
              "      <th>s6</th>\n",
              "    </tr>\n",
              "  </thead>\n",
              "  <tbody>\n",
              "    <tr>\n",
              "      <th>437</th>\n",
              "      <td>0.041708</td>\n",
              "      <td>0.050680</td>\n",
              "      <td>0.019662</td>\n",
              "      <td>0.059744</td>\n",
              "      <td>-0.005697</td>\n",
              "      <td>-0.002566</td>\n",
              "      <td>-0.028674</td>\n",
              "      <td>-0.002592</td>\n",
              "      <td>0.031193</td>\n",
              "      <td>0.007207</td>\n",
              "    </tr>\n",
              "    <tr>\n",
              "      <th>438</th>\n",
              "      <td>-0.005515</td>\n",
              "      <td>0.050680</td>\n",
              "      <td>-0.015906</td>\n",
              "      <td>-0.067642</td>\n",
              "      <td>0.049341</td>\n",
              "      <td>0.079165</td>\n",
              "      <td>-0.028674</td>\n",
              "      <td>0.034309</td>\n",
              "      <td>-0.018118</td>\n",
              "      <td>0.044485</td>\n",
              "    </tr>\n",
              "    <tr>\n",
              "      <th>439</th>\n",
              "      <td>0.041708</td>\n",
              "      <td>0.050680</td>\n",
              "      <td>-0.015906</td>\n",
              "      <td>0.017282</td>\n",
              "      <td>-0.037344</td>\n",
              "      <td>-0.013840</td>\n",
              "      <td>-0.024993</td>\n",
              "      <td>-0.011080</td>\n",
              "      <td>-0.046879</td>\n",
              "      <td>0.015491</td>\n",
              "    </tr>\n",
              "    <tr>\n",
              "      <th>440</th>\n",
              "      <td>-0.045472</td>\n",
              "      <td>-0.044642</td>\n",
              "      <td>0.039062</td>\n",
              "      <td>0.001215</td>\n",
              "      <td>0.016318</td>\n",
              "      <td>0.015283</td>\n",
              "      <td>-0.028674</td>\n",
              "      <td>0.026560</td>\n",
              "      <td>0.044528</td>\n",
              "      <td>-0.025930</td>\n",
              "    </tr>\n",
              "    <tr>\n",
              "      <th>441</th>\n",
              "      <td>-0.045472</td>\n",
              "      <td>-0.044642</td>\n",
              "      <td>-0.073030</td>\n",
              "      <td>-0.081414</td>\n",
              "      <td>0.083740</td>\n",
              "      <td>0.027809</td>\n",
              "      <td>0.173816</td>\n",
              "      <td>-0.039493</td>\n",
              "      <td>-0.004220</td>\n",
              "      <td>0.003064</td>\n",
              "    </tr>\n",
              "  </tbody>\n",
              "</table>\n",
              "</div>"
            ],
            "text/plain": [
              "          age       sex       bmi  ...        s4        s5        s6\n",
              "437  0.041708  0.050680  0.019662  ... -0.002592  0.031193  0.007207\n",
              "438 -0.005515  0.050680 -0.015906  ...  0.034309 -0.018118  0.044485\n",
              "439  0.041708  0.050680 -0.015906  ... -0.011080 -0.046879  0.015491\n",
              "440 -0.045472 -0.044642  0.039062  ...  0.026560  0.044528 -0.025930\n",
              "441 -0.045472 -0.044642 -0.073030  ... -0.039493 -0.004220  0.003064\n",
              "\n",
              "[5 rows x 10 columns]"
            ]
          },
          "metadata": {},
          "execution_count": 7
        }
      ]
    },
    {
      "cell_type": "code",
      "metadata": {
        "colab": {
          "base_uri": "https://localhost:8080/",
          "height": 206
        },
        "id": "Tq8RiBXlS_4l",
        "outputId": "91b102cd-f52a-4238-aee0-0edcbba5f2cf"
      },
      "source": [
        "#see last 5 rows of target variables\n",
        "target_df.tail()"
      ],
      "execution_count": null,
      "outputs": [
        {
          "output_type": "execute_result",
          "data": {
            "text/html": [
              "<div>\n",
              "<style scoped>\n",
              "    .dataframe tbody tr th:only-of-type {\n",
              "        vertical-align: middle;\n",
              "    }\n",
              "\n",
              "    .dataframe tbody tr th {\n",
              "        vertical-align: top;\n",
              "    }\n",
              "\n",
              "    .dataframe thead th {\n",
              "        text-align: right;\n",
              "    }\n",
              "</style>\n",
              "<table border=\"1\" class=\"dataframe\">\n",
              "  <thead>\n",
              "    <tr style=\"text-align: right;\">\n",
              "      <th></th>\n",
              "      <th>0</th>\n",
              "    </tr>\n",
              "  </thead>\n",
              "  <tbody>\n",
              "    <tr>\n",
              "      <th>437</th>\n",
              "      <td>178.0</td>\n",
              "    </tr>\n",
              "    <tr>\n",
              "      <th>438</th>\n",
              "      <td>104.0</td>\n",
              "    </tr>\n",
              "    <tr>\n",
              "      <th>439</th>\n",
              "      <td>132.0</td>\n",
              "    </tr>\n",
              "    <tr>\n",
              "      <th>440</th>\n",
              "      <td>220.0</td>\n",
              "    </tr>\n",
              "    <tr>\n",
              "      <th>441</th>\n",
              "      <td>57.0</td>\n",
              "    </tr>\n",
              "  </tbody>\n",
              "</table>\n",
              "</div>"
            ],
            "text/plain": [
              "         0\n",
              "437  178.0\n",
              "438  104.0\n",
              "439  132.0\n",
              "440  220.0\n",
              "441   57.0"
            ]
          },
          "metadata": {},
          "execution_count": 8
        }
      ]
    },
    {
      "cell_type": "code",
      "metadata": {
        "colab": {
          "base_uri": "https://localhost:8080/"
        },
        "id": "s_P6tYZljLnq",
        "outputId": "5562ee10-3063-4a55-8148-8d4c9278cc50"
      },
      "source": [
        "#see how many rows and columns are in the independent variable dataset\n",
        "df.shape"
      ],
      "execution_count": null,
      "outputs": [
        {
          "output_type": "execute_result",
          "data": {
            "text/plain": [
              "(442, 10)"
            ]
          },
          "metadata": {},
          "execution_count": 9
        }
      ]
    },
    {
      "cell_type": "code",
      "metadata": {
        "colab": {
          "base_uri": "https://localhost:8080/"
        },
        "id": "yzLnvBMxTE8n",
        "outputId": "f1e56f2f-8f54-4181-8e39-765f07654630"
      },
      "source": [
        "#see how many rows and columns are in the target variable dataset\n",
        "target_df.shape"
      ],
      "execution_count": null,
      "outputs": [
        {
          "output_type": "execute_result",
          "data": {
            "text/plain": [
              "(442, 1)"
            ]
          },
          "metadata": {},
          "execution_count": 10
        }
      ]
    },
    {
      "cell_type": "code",
      "metadata": {
        "colab": {
          "base_uri": "https://localhost:8080/"
        },
        "id": "vvZf1otJjPyb",
        "outputId": "0262b584-136a-4035-adc9-fd38b8a769ad"
      },
      "source": [
        "#see how many unique values there are for each column in independent variable dataset\n",
        "df.nunique()"
      ],
      "execution_count": null,
      "outputs": [
        {
          "output_type": "execute_result",
          "data": {
            "text/plain": [
              "age     58\n",
              "sex      2\n",
              "bmi    163\n",
              "bp     100\n",
              "s1     141\n",
              "s2     302\n",
              "s3      63\n",
              "s4      66\n",
              "s5     184\n",
              "s6      56\n",
              "dtype: int64"
            ]
          },
          "metadata": {},
          "execution_count": 11
        }
      ]
    },
    {
      "cell_type": "code",
      "metadata": {
        "colab": {
          "base_uri": "https://localhost:8080/"
        },
        "id": "ebMhq9P5TNpK",
        "outputId": "3f62d001-e577-4e72-8ba5-baacf1015186"
      },
      "source": [
        "#see how many unique values there are for each column in target variable dataset\n",
        "target_df.nunique()"
      ],
      "execution_count": null,
      "outputs": [
        {
          "output_type": "execute_result",
          "data": {
            "text/plain": [
              "0    214\n",
              "dtype: int64"
            ]
          },
          "metadata": {},
          "execution_count": 12
        }
      ]
    },
    {
      "cell_type": "code",
      "metadata": {
        "colab": {
          "base_uri": "https://localhost:8080/",
          "height": 300
        },
        "id": "n_6-53XRjXtQ",
        "outputId": "adba73c5-34cf-448d-ec14-465ecfc4d462"
      },
      "source": [
        "#get independent variable dataset attributes\n",
        "df.describe()"
      ],
      "execution_count": null,
      "outputs": [
        {
          "output_type": "execute_result",
          "data": {
            "text/html": [
              "<div>\n",
              "<style scoped>\n",
              "    .dataframe tbody tr th:only-of-type {\n",
              "        vertical-align: middle;\n",
              "    }\n",
              "\n",
              "    .dataframe tbody tr th {\n",
              "        vertical-align: top;\n",
              "    }\n",
              "\n",
              "    .dataframe thead th {\n",
              "        text-align: right;\n",
              "    }\n",
              "</style>\n",
              "<table border=\"1\" class=\"dataframe\">\n",
              "  <thead>\n",
              "    <tr style=\"text-align: right;\">\n",
              "      <th></th>\n",
              "      <th>age</th>\n",
              "      <th>sex</th>\n",
              "      <th>bmi</th>\n",
              "      <th>bp</th>\n",
              "      <th>s1</th>\n",
              "      <th>s2</th>\n",
              "      <th>s3</th>\n",
              "      <th>s4</th>\n",
              "      <th>s5</th>\n",
              "      <th>s6</th>\n",
              "    </tr>\n",
              "  </thead>\n",
              "  <tbody>\n",
              "    <tr>\n",
              "      <th>count</th>\n",
              "      <td>4.420000e+02</td>\n",
              "      <td>4.420000e+02</td>\n",
              "      <td>4.420000e+02</td>\n",
              "      <td>4.420000e+02</td>\n",
              "      <td>4.420000e+02</td>\n",
              "      <td>4.420000e+02</td>\n",
              "      <td>4.420000e+02</td>\n",
              "      <td>4.420000e+02</td>\n",
              "      <td>4.420000e+02</td>\n",
              "      <td>4.420000e+02</td>\n",
              "    </tr>\n",
              "    <tr>\n",
              "      <th>mean</th>\n",
              "      <td>-3.634285e-16</td>\n",
              "      <td>1.308343e-16</td>\n",
              "      <td>-8.045349e-16</td>\n",
              "      <td>1.281655e-16</td>\n",
              "      <td>-8.835316e-17</td>\n",
              "      <td>1.327024e-16</td>\n",
              "      <td>-4.574646e-16</td>\n",
              "      <td>3.777301e-16</td>\n",
              "      <td>-3.830854e-16</td>\n",
              "      <td>-3.412882e-16</td>\n",
              "    </tr>\n",
              "    <tr>\n",
              "      <th>std</th>\n",
              "      <td>4.761905e-02</td>\n",
              "      <td>4.761905e-02</td>\n",
              "      <td>4.761905e-02</td>\n",
              "      <td>4.761905e-02</td>\n",
              "      <td>4.761905e-02</td>\n",
              "      <td>4.761905e-02</td>\n",
              "      <td>4.761905e-02</td>\n",
              "      <td>4.761905e-02</td>\n",
              "      <td>4.761905e-02</td>\n",
              "      <td>4.761905e-02</td>\n",
              "    </tr>\n",
              "    <tr>\n",
              "      <th>min</th>\n",
              "      <td>-1.072256e-01</td>\n",
              "      <td>-4.464164e-02</td>\n",
              "      <td>-9.027530e-02</td>\n",
              "      <td>-1.123996e-01</td>\n",
              "      <td>-1.267807e-01</td>\n",
              "      <td>-1.156131e-01</td>\n",
              "      <td>-1.023071e-01</td>\n",
              "      <td>-7.639450e-02</td>\n",
              "      <td>-1.260974e-01</td>\n",
              "      <td>-1.377672e-01</td>\n",
              "    </tr>\n",
              "    <tr>\n",
              "      <th>25%</th>\n",
              "      <td>-3.729927e-02</td>\n",
              "      <td>-4.464164e-02</td>\n",
              "      <td>-3.422907e-02</td>\n",
              "      <td>-3.665645e-02</td>\n",
              "      <td>-3.424784e-02</td>\n",
              "      <td>-3.035840e-02</td>\n",
              "      <td>-3.511716e-02</td>\n",
              "      <td>-3.949338e-02</td>\n",
              "      <td>-3.324879e-02</td>\n",
              "      <td>-3.317903e-02</td>\n",
              "    </tr>\n",
              "    <tr>\n",
              "      <th>50%</th>\n",
              "      <td>5.383060e-03</td>\n",
              "      <td>-4.464164e-02</td>\n",
              "      <td>-7.283766e-03</td>\n",
              "      <td>-5.670611e-03</td>\n",
              "      <td>-4.320866e-03</td>\n",
              "      <td>-3.819065e-03</td>\n",
              "      <td>-6.584468e-03</td>\n",
              "      <td>-2.592262e-03</td>\n",
              "      <td>-1.947634e-03</td>\n",
              "      <td>-1.077698e-03</td>\n",
              "    </tr>\n",
              "    <tr>\n",
              "      <th>75%</th>\n",
              "      <td>3.807591e-02</td>\n",
              "      <td>5.068012e-02</td>\n",
              "      <td>3.124802e-02</td>\n",
              "      <td>3.564384e-02</td>\n",
              "      <td>2.835801e-02</td>\n",
              "      <td>2.984439e-02</td>\n",
              "      <td>2.931150e-02</td>\n",
              "      <td>3.430886e-02</td>\n",
              "      <td>3.243323e-02</td>\n",
              "      <td>2.791705e-02</td>\n",
              "    </tr>\n",
              "    <tr>\n",
              "      <th>max</th>\n",
              "      <td>1.107267e-01</td>\n",
              "      <td>5.068012e-02</td>\n",
              "      <td>1.705552e-01</td>\n",
              "      <td>1.320442e-01</td>\n",
              "      <td>1.539137e-01</td>\n",
              "      <td>1.987880e-01</td>\n",
              "      <td>1.811791e-01</td>\n",
              "      <td>1.852344e-01</td>\n",
              "      <td>1.335990e-01</td>\n",
              "      <td>1.356118e-01</td>\n",
              "    </tr>\n",
              "  </tbody>\n",
              "</table>\n",
              "</div>"
            ],
            "text/plain": [
              "                age           sex  ...            s5            s6\n",
              "count  4.420000e+02  4.420000e+02  ...  4.420000e+02  4.420000e+02\n",
              "mean  -3.634285e-16  1.308343e-16  ... -3.830854e-16 -3.412882e-16\n",
              "std    4.761905e-02  4.761905e-02  ...  4.761905e-02  4.761905e-02\n",
              "min   -1.072256e-01 -4.464164e-02  ... -1.260974e-01 -1.377672e-01\n",
              "25%   -3.729927e-02 -4.464164e-02  ... -3.324879e-02 -3.317903e-02\n",
              "50%    5.383060e-03 -4.464164e-02  ... -1.947634e-03 -1.077698e-03\n",
              "75%    3.807591e-02  5.068012e-02  ...  3.243323e-02  2.791705e-02\n",
              "max    1.107267e-01  5.068012e-02  ...  1.335990e-01  1.356118e-01\n",
              "\n",
              "[8 rows x 10 columns]"
            ]
          },
          "metadata": {},
          "execution_count": 13
        }
      ]
    },
    {
      "cell_type": "code",
      "metadata": {
        "colab": {
          "base_uri": "https://localhost:8080/",
          "height": 300
        },
        "id": "SuvmMjOmTTPg",
        "outputId": "7998e23a-3530-4698-8adc-a14e9aabf2a0"
      },
      "source": [
        "#get target variable dataset attributes\n",
        "target_df.describe()"
      ],
      "execution_count": null,
      "outputs": [
        {
          "output_type": "execute_result",
          "data": {
            "text/html": [
              "<div>\n",
              "<style scoped>\n",
              "    .dataframe tbody tr th:only-of-type {\n",
              "        vertical-align: middle;\n",
              "    }\n",
              "\n",
              "    .dataframe tbody tr th {\n",
              "        vertical-align: top;\n",
              "    }\n",
              "\n",
              "    .dataframe thead th {\n",
              "        text-align: right;\n",
              "    }\n",
              "</style>\n",
              "<table border=\"1\" class=\"dataframe\">\n",
              "  <thead>\n",
              "    <tr style=\"text-align: right;\">\n",
              "      <th></th>\n",
              "      <th>0</th>\n",
              "    </tr>\n",
              "  </thead>\n",
              "  <tbody>\n",
              "    <tr>\n",
              "      <th>count</th>\n",
              "      <td>442.000000</td>\n",
              "    </tr>\n",
              "    <tr>\n",
              "      <th>mean</th>\n",
              "      <td>152.133484</td>\n",
              "    </tr>\n",
              "    <tr>\n",
              "      <th>std</th>\n",
              "      <td>77.093005</td>\n",
              "    </tr>\n",
              "    <tr>\n",
              "      <th>min</th>\n",
              "      <td>25.000000</td>\n",
              "    </tr>\n",
              "    <tr>\n",
              "      <th>25%</th>\n",
              "      <td>87.000000</td>\n",
              "    </tr>\n",
              "    <tr>\n",
              "      <th>50%</th>\n",
              "      <td>140.500000</td>\n",
              "    </tr>\n",
              "    <tr>\n",
              "      <th>75%</th>\n",
              "      <td>211.500000</td>\n",
              "    </tr>\n",
              "    <tr>\n",
              "      <th>max</th>\n",
              "      <td>346.000000</td>\n",
              "    </tr>\n",
              "  </tbody>\n",
              "</table>\n",
              "</div>"
            ],
            "text/plain": [
              "                0\n",
              "count  442.000000\n",
              "mean   152.133484\n",
              "std     77.093005\n",
              "min     25.000000\n",
              "25%     87.000000\n",
              "50%    140.500000\n",
              "75%    211.500000\n",
              "max    346.000000"
            ]
          },
          "metadata": {},
          "execution_count": 14
        }
      ]
    },
    {
      "cell_type": "markdown",
      "metadata": {
        "id": "t4RORzL4kBuV"
      },
      "source": [
        "From the above code, we can see that we have an independent variable dataset with 442 rows and 10 columns. The columns are: age, sex, bmi, bp, s1, s2, s3, s4, s5, and s6 and each row represents data for a different individual. Since our data has been scaled, the values in the rows that we see with the head and tail functions and the metrics such as mean, max, and min are not very useful. We will need to look at this data using models to understand it better.\n",
        "\n",
        "Our target variable dataset has 442 rows and one column with 214 unique variable attributes. The metrics such as mean, max, and min are much more meaningful here, but the independent variables are not included which does not help us answer our question. "
      ]
    },
    {
      "cell_type": "markdown",
      "metadata": {
        "id": "V3aBL9FjBX8G"
      },
      "source": [
        "##Clean the Data"
      ]
    },
    {
      "cell_type": "code",
      "metadata": {
        "colab": {
          "base_uri": "https://localhost:8080/"
        },
        "id": "efF-RgK-lv8D",
        "outputId": "c59dbed7-f705-46ef-95df-e3693f74b9b3"
      },
      "source": [
        "#check for null values in independent variable dataset\n",
        "df.isnull().sum()"
      ],
      "execution_count": null,
      "outputs": [
        {
          "output_type": "execute_result",
          "data": {
            "text/plain": [
              "age    0\n",
              "sex    0\n",
              "bmi    0\n",
              "bp     0\n",
              "s1     0\n",
              "s2     0\n",
              "s3     0\n",
              "s4     0\n",
              "s5     0\n",
              "s6     0\n",
              "dtype: int64"
            ]
          },
          "metadata": {},
          "execution_count": 15
        }
      ]
    },
    {
      "cell_type": "code",
      "metadata": {
        "colab": {
          "base_uri": "https://localhost:8080/"
        },
        "id": "24H3cmx6T_OT",
        "outputId": "767a29ad-ad54-4d9a-9906-63d5d6e4298d"
      },
      "source": [
        "#check for null values in target variable dataset\n",
        "target_df.isnull().sum()"
      ],
      "execution_count": null,
      "outputs": [
        {
          "output_type": "execute_result",
          "data": {
            "text/plain": [
              "0    0\n",
              "dtype: int64"
            ]
          },
          "metadata": {},
          "execution_count": 16
        }
      ]
    },
    {
      "cell_type": "code",
      "metadata": {
        "colab": {
          "base_uri": "https://localhost:8080/",
          "height": 295
        },
        "id": "VkVGl19onLxI",
        "outputId": "68357bdb-55b4-4dc4-ef70-7b3cceeb9607"
      },
      "source": [
        "#histogram of target variable\n",
        "n, bins, patches = plt.hist(x = diabetes.target, bins = 100, color = '#0504aa')\n",
        "plt.grid(axis='y', alpha=0.75)\n",
        "plt.xlabel('Target (Disease Progression Value)')\n",
        "plt.ylabel('Probability')\n",
        "plt.title('Target Distribution')\n",
        "plt.show()"
      ],
      "execution_count": null,
      "outputs": [
        {
          "output_type": "display_data",
          "data": {
            "image/png": "[encoded data removed]",
            "text/plain": [
              "<Figure size 432x288 with 1 Axes>"
            ]
          },
          "metadata": {
            "needs_background": "light"
          }
        }
      ]
    },
    {
      "cell_type": "code",
      "metadata": {
        "colab": {
          "base_uri": "https://localhost:8080/",
          "height": 279
        },
        "id": "yplYcbj_pDkH",
        "outputId": "426a749d-b2ae-477d-9cf7-1f4da68d2444"
      },
      "source": [
        "#create scatter plot of BMI vs DPV\n",
        "plt.scatter(df.bmi, diabetes.target)\n",
        "plt.xlabel('BMI')\n",
        "plt.ylabel('DPV')\n",
        "plt.show()"
      ],
      "execution_count": null,
      "outputs": [
        {
          "output_type": "display_data",
          "data": {
            "image/png": "[encoded data removed]",
            "text/plain": [
              "<Figure size 432x288 with 1 Axes>"
            ]
          },
          "metadata": {
            "needs_background": "light"
          }
        }
      ]
    },
    {
      "cell_type": "code",
      "metadata": {
        "colab": {
          "base_uri": "https://localhost:8080/",
          "height": 363
        },
        "id": "ORtQxaRyq2O1",
        "outputId": "09535b5a-4a4d-4120-a9e2-5927ee6527da"
      },
      "source": [
        "#print correlation matrix\n",
        "df.corr()"
      ],
      "execution_count": null,
      "outputs": [
        {
          "output_type": "execute_result",
          "data": {
            "text/html": [
              "<div>\n",
              "<style scoped>\n",
              "    .dataframe tbody tr th:only-of-type {\n",
              "        vertical-align: middle;\n",
              "    }\n",
              "\n",
              "    .dataframe tbody tr th {\n",
              "        vertical-align: top;\n",
              "    }\n",
              "\n",
              "    .dataframe thead th {\n",
              "        text-align: right;\n",
              "    }\n",
              "</style>\n",
              "<table border=\"1\" class=\"dataframe\">\n",
              "  <thead>\n",
              "    <tr style=\"text-align: right;\">\n",
              "      <th></th>\n",
              "      <th>age</th>\n",
              "      <th>sex</th>\n",
              "      <th>bmi</th>\n",
              "      <th>bp</th>\n",
              "      <th>s1</th>\n",
              "      <th>s2</th>\n",
              "      <th>s3</th>\n",
              "      <th>s4</th>\n",
              "      <th>s5</th>\n",
              "      <th>s6</th>\n",
              "    </tr>\n",
              "  </thead>\n",
              "  <tbody>\n",
              "    <tr>\n",
              "      <th>age</th>\n",
              "      <td>1.000000</td>\n",
              "      <td>0.173737</td>\n",
              "      <td>0.185085</td>\n",
              "      <td>0.335427</td>\n",
              "      <td>0.260061</td>\n",
              "      <td>0.219243</td>\n",
              "      <td>-0.075181</td>\n",
              "      <td>0.203841</td>\n",
              "      <td>0.270777</td>\n",
              "      <td>0.301731</td>\n",
              "    </tr>\n",
              "    <tr>\n",
              "      <th>sex</th>\n",
              "      <td>0.173737</td>\n",
              "      <td>1.000000</td>\n",
              "      <td>0.088161</td>\n",
              "      <td>0.241013</td>\n",
              "      <td>0.035277</td>\n",
              "      <td>0.142637</td>\n",
              "      <td>-0.379090</td>\n",
              "      <td>0.332115</td>\n",
              "      <td>0.149918</td>\n",
              "      <td>0.208133</td>\n",
              "    </tr>\n",
              "    <tr>\n",
              "      <th>bmi</th>\n",
              "      <td>0.185085</td>\n",
              "      <td>0.088161</td>\n",
              "      <td>1.000000</td>\n",
              "      <td>0.395415</td>\n",
              "      <td>0.249777</td>\n",
              "      <td>0.261170</td>\n",
              "      <td>-0.366811</td>\n",
              "      <td>0.413807</td>\n",
              "      <td>0.446159</td>\n",
              "      <td>0.388680</td>\n",
              "    </tr>\n",
              "    <tr>\n",
              "      <th>bp</th>\n",
              "      <td>0.335427</td>\n",
              "      <td>0.241013</td>\n",
              "      <td>0.395415</td>\n",
              "      <td>1.000000</td>\n",
              "      <td>0.242470</td>\n",
              "      <td>0.185558</td>\n",
              "      <td>-0.178761</td>\n",
              "      <td>0.257653</td>\n",
              "      <td>0.393478</td>\n",
              "      <td>0.390429</td>\n",
              "    </tr>\n",
              "    <tr>\n",
              "      <th>s1</th>\n",
              "      <td>0.260061</td>\n",
              "      <td>0.035277</td>\n",
              "      <td>0.249777</td>\n",
              "      <td>0.242470</td>\n",
              "      <td>1.000000</td>\n",
              "      <td>0.896663</td>\n",
              "      <td>0.051519</td>\n",
              "      <td>0.542207</td>\n",
              "      <td>0.515501</td>\n",
              "      <td>0.325717</td>\n",
              "    </tr>\n",
              "    <tr>\n",
              "      <th>s2</th>\n",
              "      <td>0.219243</td>\n",
              "      <td>0.142637</td>\n",
              "      <td>0.261170</td>\n",
              "      <td>0.185558</td>\n",
              "      <td>0.896663</td>\n",
              "      <td>1.000000</td>\n",
              "      <td>-0.196455</td>\n",
              "      <td>0.659817</td>\n",
              "      <td>0.318353</td>\n",
              "      <td>0.290600</td>\n",
              "    </tr>\n",
              "    <tr>\n",
              "      <th>s3</th>\n",
              "      <td>-0.075181</td>\n",
              "      <td>-0.379090</td>\n",
              "      <td>-0.366811</td>\n",
              "      <td>-0.178761</td>\n",
              "      <td>0.051519</td>\n",
              "      <td>-0.196455</td>\n",
              "      <td>1.000000</td>\n",
              "      <td>-0.738493</td>\n",
              "      <td>-0.398577</td>\n",
              "      <td>-0.273697</td>\n",
              "    </tr>\n",
              "    <tr>\n",
              "      <th>s4</th>\n",
              "      <td>0.203841</td>\n",
              "      <td>0.332115</td>\n",
              "      <td>0.413807</td>\n",
              "      <td>0.257653</td>\n",
              "      <td>0.542207</td>\n",
              "      <td>0.659817</td>\n",
              "      <td>-0.738493</td>\n",
              "      <td>1.000000</td>\n",
              "      <td>0.617857</td>\n",
              "      <td>0.417212</td>\n",
              "    </tr>\n",
              "    <tr>\n",
              "      <th>s5</th>\n",
              "      <td>0.270777</td>\n",
              "      <td>0.149918</td>\n",
              "      <td>0.446159</td>\n",
              "      <td>0.393478</td>\n",
              "      <td>0.515501</td>\n",
              "      <td>0.318353</td>\n",
              "      <td>-0.398577</td>\n",
              "      <td>0.617857</td>\n",
              "      <td>1.000000</td>\n",
              "      <td>0.464670</td>\n",
              "    </tr>\n",
              "    <tr>\n",
              "      <th>s6</th>\n",
              "      <td>0.301731</td>\n",
              "      <td>0.208133</td>\n",
              "      <td>0.388680</td>\n",
              "      <td>0.390429</td>\n",
              "      <td>0.325717</td>\n",
              "      <td>0.290600</td>\n",
              "      <td>-0.273697</td>\n",
              "      <td>0.417212</td>\n",
              "      <td>0.464670</td>\n",
              "      <td>1.000000</td>\n",
              "    </tr>\n",
              "  </tbody>\n",
              "</table>\n",
              "</div>"
            ],
            "text/plain": [
              "          age       sex       bmi  ...        s4        s5        s6\n",
              "age  1.000000  0.173737  0.185085  ...  0.203841  0.270777  0.301731\n",
              "sex  0.173737  1.000000  0.088161  ...  0.332115  0.149918  0.208133\n",
              "bmi  0.185085  0.088161  1.000000  ...  0.413807  0.446159  0.388680\n",
              "bp   0.335427  0.241013  0.395415  ...  0.257653  0.393478  0.390429\n",
              "s1   0.260061  0.035277  0.249777  ...  0.542207  0.515501  0.325717\n",
              "s2   0.219243  0.142637  0.261170  ...  0.659817  0.318353  0.290600\n",
              "s3  -0.075181 -0.379090 -0.366811  ... -0.738493 -0.398577 -0.273697\n",
              "s4   0.203841  0.332115  0.413807  ...  1.000000  0.617857  0.417212\n",
              "s5   0.270777  0.149918  0.446159  ...  0.617857  1.000000  0.464670\n",
              "s6   0.301731  0.208133  0.388680  ...  0.417212  0.464670  1.000000\n",
              "\n",
              "[10 rows x 10 columns]"
            ]
          },
          "metadata": {},
          "execution_count": 19
        }
      ]
    },
    {
      "cell_type": "code",
      "metadata": {
        "id": "tIEE16AzrnOy",
        "colab": {
          "base_uri": "https://localhost:8080/"
        },
        "outputId": "5f7befe7-5792-4a4c-fb03-a737942b18c2"
      },
      "source": [
        "vif_data = pd.DataFrame()\n",
        "vif_data[\"feature\"] = df.columns\n",
        "vif_data[\"VIF\"] = [variance_inflation_factor(df.values, i) for i in range(len(df.columns))]\n",
        "\n",
        "print(vif_data)"
      ],
      "execution_count": null,
      "outputs": [
        {
          "output_type": "stream",
          "name": "stdout",
          "text": [
            "  feature        VIF\n",
            "0     age   1.217307\n",
            "1     sex   1.278073\n",
            "2     bmi   1.509446\n",
            "3      bp   1.459429\n",
            "4      s1  59.203786\n",
            "5      s2  39.194379\n",
            "6      s3  15.402352\n",
            "7      s4   8.890986\n",
            "8      s5  10.076222\n",
            "9      s6   1.484623\n"
          ]
        }
      ]
    },
    {
      "cell_type": "markdown",
      "metadata": {
        "id": "z3-EyOPuPd28"
      },
      "source": [
        "From the information above, we can see that there are no null values in our datasets. The scatterplot suggests that there may be a positive correlation between BMI and DPV.\n",
        "\n",
        "The variable inflation factors (VIF) were determined and interpreted using information from https://www.analyticsvidhya.com/blog/2020/03/what-is-multicollinearity/. We can see that s1, s2, s3, s4, and s5 all have high VIF values which means they can be predicted by other independent variables from the dataset. However, this is not an issue because this collinearity makes sense. Each s value is a separate blood serum measurement. Therefore, each measurement will be correlated with one another because they are simply separate trials of the same data."
      ]
    },
    {
      "cell_type": "markdown",
      "metadata": {
        "id": "FFcBIJdD9-I7"
      },
      "source": [
        "#Models"
      ]
    },
    {
      "cell_type": "markdown",
      "metadata": {
        "id": "Tq5ki-TsbDnw"
      },
      "source": [
        "##Linear Regression Model"
      ]
    },
    {
      "cell_type": "code",
      "metadata": {
        "id": "Qgn7kd8JcOj8"
      },
      "source": [
        "#set values for x and y\n",
        "x = df['bmi'].astype(float)\n",
        "y = diabetes['target'].astype(float)"
      ],
      "execution_count": null,
      "outputs": []
    },
    {
      "cell_type": "code",
      "metadata": {
        "id": "vSe2C8gzcV4-"
      },
      "source": [
        "# Split the data into training/testing sets\n",
        "x_train, x_test, y_train, y_test = train_test_split(x, y ,test_size = 0.3, random_state = 100)"
      ],
      "execution_count": null,
      "outputs": []
    },
    {
      "cell_type": "code",
      "metadata": {
        "colab": {
          "base_uri": "https://localhost:8080/",
          "height": 321
        },
        "id": "HqtmP1r0sMFE",
        "outputId": "dbf06872-c3e1-49a2-ffe4-d534454f8fa7"
      },
      "source": [
        "# Create linear regression object\n",
        "regr = LinearRegression()\n",
        "\n",
        "# Train the model using the training sets\n",
        "regr.fit(x_train.values.reshape(-1,1), y_train)\n",
        "\n",
        "# Make predictions using the testing set\n",
        "diabetes_y_pred = regr.predict(x_test.values.reshape(-1, 1))\n",
        "\n",
        "# The intercept\n",
        "print('Intercept: \\n', regr.intercept_)\n",
        "# The coefficients\n",
        "print('Coefficients: \\n', regr.coef_)\n",
        "\n",
        "\n",
        "# Plot outputs\n",
        "plt.scatter(x_test, y_test,  color='black')\n",
        "plt.plot(x_test, diabetes_y_pred, color='blue', linewidth=3)\n",
        "\n",
        "plt.xticks(())\n",
        "plt.yticks(())\n",
        "\n",
        "plt.show()"
      ],
      "execution_count": null,
      "outputs": [
        {
          "output_type": "stream",
          "name": "stdout",
          "text": [
            "Intercept: \n",
            " 154.2349433460233\n",
            "Coefficients: \n",
            " [967.87658949]\n"
          ]
        },
        {
          "output_type": "display_data",
          "data": {
            "image/png": "[encoded data removed]",
            "text/plain": [
              "<Figure size 432x288 with 1 Axes>"
            ]
          },
          "metadata": {}
        }
      ]
    },
    {
      "cell_type": "code",
      "metadata": {
        "colab": {
          "base_uri": "https://localhost:8080/"
        },
        "id": "b-GAlIvRG6rU",
        "outputId": "1bca1930-d797-46d0-a1a2-3c2c8b401f28"
      },
      "source": [
        "print('R squared: {:.2f}'.format(regr.score(x.values.reshape(-1, 1),y)*100))\n",
        "print('Mean Absolute Error:', metrics.mean_absolute_error(y_test, diabetes_y_pred))\n",
        "print('Mean Squared Error:', metrics.mean_squared_error(y_test, diabetes_y_pred))\n",
        "print('Root Mean Squared Error:', np.sqrt(metrics.mean_squared_error(y_test, diabetes_y_pred)))"
      ],
      "execution_count": null,
      "outputs": [
        {
          "output_type": "stream",
          "name": "stdout",
          "text": [
            "R squared: 34.30\n",
            "Mean Absolute Error: 48.15683861520791\n",
            "Mean Squared Error: 3549.670037631086\n",
            "Root Mean Squared Error: 59.57910739203035\n"
          ]
        }
      ]
    },
    {
      "cell_type": "markdown",
      "metadata": {
        "id": "lP4HCJOjzL4a"
      },
      "source": [
        "Since the r squared value is so low and the mean square error and root mean square error are so high, that means our model is not very accurate. We can see this illustrated in the graph as our regression line is pretty far away from a lot of the data points."
      ]
    },
    {
      "cell_type": "markdown",
      "metadata": {
        "id": "in_5GHi0zNoh"
      },
      "source": [
        "Regression Formula: y = 967.88x + 154.23"
      ]
    },
    {
      "cell_type": "markdown",
      "metadata": {
        "id": "anisQtrNzQCG"
      },
      "source": [
        "We cannot accept this model because the r squared value is so low and the mean squared error and root mean squared error are so high."
      ]
    },
    {
      "cell_type": "markdown",
      "metadata": {
        "id": "HspnK6vzbIHY"
      },
      "source": [
        "##Multiple Linear Regression Model 1\n",
        "I used information from https://medium.com/machine-learning-with-python/multiple-linear-regression-implementation-in-python-2de9b303fc0c to create and evaluate the following multiple linear regression models 1 and 2."
      ]
    },
    {
      "cell_type": "code",
      "metadata": {
        "id": "OE0r91QmYfqX"
      },
      "source": [
        "#set values for x and y\n",
        "x = df[['age','sex','bmi','bp','s1','s2','s3','s4','s5','s6']].astype(float)\n",
        "y = diabetes['target'].astype(float)"
      ],
      "execution_count": null,
      "outputs": []
    },
    {
      "cell_type": "markdown",
      "metadata": {
        "id": "_I5WckwkZ8Zy"
      },
      "source": [
        "I used information from https://realpython.com/train-test-split-python-data/ to split my data into training and testing sets."
      ]
    },
    {
      "cell_type": "code",
      "metadata": {
        "id": "n1qvCIK1ZMhj"
      },
      "source": [
        "# Split the data into training/testing sets\n",
        "x_train, x_test, y_train, y_test = train_test_split(x, y ,test_size = 0.3, random_state = 100)"
      ],
      "execution_count": null,
      "outputs": []
    },
    {
      "cell_type": "code",
      "metadata": {
        "id": "-PVFZWJNsSLx",
        "colab": {
          "base_uri": "https://localhost:8080/"
        },
        "outputId": "55ba7f5b-9f61-4a5f-ff18-0117ea40fe3d"
      },
      "source": [
        "#create a multiple linear regression model\n",
        "mlr = LinearRegression()\n",
        "mlr.fit(x_train,y_train)\n",
        "\n",
        "print(\"Intercept: \", mlr.intercept_)\n",
        "print(\"Coefficients:\")\n",
        "list(zip(x, mlr.coef_))"
      ],
      "execution_count": null,
      "outputs": [
        {
          "output_type": "stream",
          "name": "stdout",
          "text": [
            "Intercept:  153.75563912747964\n",
            "Coefficients:\n"
          ]
        },
        {
          "output_type": "execute_result",
          "data": {
            "text/plain": [
              "[('age', -25.02261506459551),\n",
              " ('sex', -205.00570353407514),\n",
              " ('bmi', 572.7009488964303),\n",
              " ('bp', 308.49904646090295),\n",
              " ('s1', -1000.9232071956375),\n",
              " ('s2', 606.542534986927),\n",
              " ('s3', 207.39582001207057),\n",
              " ('s4', 135.22404128454585),\n",
              " ('s5', 902.9697424731414),\n",
              " ('s6', 55.5220897319422)]"
            ]
          },
          "metadata": {},
          "execution_count": 42
        }
      ]
    },
    {
      "cell_type": "code",
      "metadata": {
        "colab": {
          "base_uri": "https://localhost:8080/"
        },
        "id": "IfKxr-MLaySW",
        "outputId": "d2eee99a-6cb4-4785-9813-01a220d29232"
      },
      "source": [
        "#Prediction of test set\n",
        "y_pred_mlr= mlr.predict(x_test)\n",
        "#Predicted values\n",
        "print(\"Prediction for test set: {}\".format(y_pred_mlr))"
      ],
      "execution_count": null,
      "outputs": [
        {
          "output_type": "stream",
          "name": "stdout",
          "text": [
            "Prediction for test set: [ 76.88488236  50.25812435 175.14287653  88.21510972 117.11300021\n",
            " 110.98491886 171.19515271 255.58399269 111.57003394 215.36433896\n",
            " 210.98979952 174.57318179 211.33384774 221.74152829 111.53668561\n",
            " 142.70463631  58.83124606  97.17384706 198.42778416 157.89098102\n",
            " 261.64655136 219.93748095  96.41533644 154.7973767  238.20808117\n",
            " 122.46601701 298.91256572 122.16061922 188.53138471 177.64946413\n",
            " 130.57821962 148.0325883  130.36884485 135.17819236 184.08091312\n",
            " 185.49053968 228.82256143 163.65954486 238.43805647 200.36784216\n",
            " 137.26077024 156.44904394  81.04495702 144.25023072  73.03533525\n",
            " 198.02173772 140.03223537 102.30614454 228.56843802 128.75655219\n",
            " 257.31159699  70.51397922 215.18114014 148.45921736  80.37212432\n",
            " 162.32872849 102.99827673 296.39541841  80.02541928 136.69009211\n",
            "  96.30084945 152.17304243 111.57015006 238.85889145 174.51474456\n",
            " 136.04787633 123.8688745  111.86813701  73.28169416 131.51903679\n",
            " 133.40061407  69.25736649  73.53116224 201.29194398 120.37705936\n",
            " 169.42813022 112.38675843  65.45944994 118.64894355  80.73762509\n",
            "  86.21735736 105.87110676 128.27972327 110.75272156 119.53038873\n",
            " 165.79218876 163.11324199  90.26121061  76.57369602 130.71194067\n",
            " 155.28720475 136.1915576   53.53099731 246.0876942   53.86439415\n",
            " 194.62144959  89.75232751 195.81943162 195.4824721  139.90138459\n",
            " 119.23389687 237.56658177 112.58161933  81.87278116 123.87456125\n",
            " 167.2788549  198.36019961 148.66598679 225.95195524  35.58622474\n",
            " 134.93891292 141.70192345 119.4769783  175.35625297 152.1275567\n",
            " 149.03225542 159.26183617 117.03438567  43.14563002 125.71852115\n",
            " 212.09590194 248.83940685 158.42860015 167.16426142 277.8433707\n",
            " 103.89995594 178.05878459 183.39740224 186.58254366  30.24526204\n",
            " 189.72714021 198.86218372 268.65634101]\n"
          ]
        }
      ]
    },
    {
      "cell_type": "code",
      "metadata": {
        "colab": {
          "base_uri": "https://localhost:8080/",
          "height": 206
        },
        "id": "7YR_ke8wavFV",
        "outputId": "43519ccf-d552-443c-d11a-348b2af25771"
      },
      "source": [
        "#Actual value and the predicted value\n",
        "mlr_diff = pd.DataFrame({'Actual value': y_test, 'Predicted value': y_pred_mlr})\n",
        "mlr_diff.head()"
      ],
      "execution_count": null,
      "outputs": [
        {
          "output_type": "execute_result",
          "data": {
            "text/html": [
              "<div>\n",
              "<style scoped>\n",
              "    .dataframe tbody tr th:only-of-type {\n",
              "        vertical-align: middle;\n",
              "    }\n",
              "\n",
              "    .dataframe tbody tr th {\n",
              "        vertical-align: top;\n",
              "    }\n",
              "\n",
              "    .dataframe thead th {\n",
              "        text-align: right;\n",
              "    }\n",
              "</style>\n",
              "<table border=\"1\" class=\"dataframe\">\n",
              "  <thead>\n",
              "    <tr style=\"text-align: right;\">\n",
              "      <th></th>\n",
              "      <th>Actual value</th>\n",
              "      <th>Predicted value</th>\n",
              "    </tr>\n",
              "  </thead>\n",
              "  <tbody>\n",
              "    <tr>\n",
              "      <th>0</th>\n",
              "      <td>42.0</td>\n",
              "      <td>76.884882</td>\n",
              "    </tr>\n",
              "    <tr>\n",
              "      <th>1</th>\n",
              "      <td>72.0</td>\n",
              "      <td>50.258124</td>\n",
              "    </tr>\n",
              "    <tr>\n",
              "      <th>2</th>\n",
              "      <td>139.0</td>\n",
              "      <td>175.142877</td>\n",
              "    </tr>\n",
              "    <tr>\n",
              "      <th>3</th>\n",
              "      <td>74.0</td>\n",
              "      <td>88.215110</td>\n",
              "    </tr>\n",
              "    <tr>\n",
              "      <th>4</th>\n",
              "      <td>109.0</td>\n",
              "      <td>117.113000</td>\n",
              "    </tr>\n",
              "  </tbody>\n",
              "</table>\n",
              "</div>"
            ],
            "text/plain": [
              "   Actual value  Predicted value\n",
              "0          42.0        76.884882\n",
              "1          72.0        50.258124\n",
              "2         139.0       175.142877\n",
              "3          74.0        88.215110\n",
              "4         109.0       117.113000"
            ]
          },
          "metadata": {},
          "execution_count": 44
        }
      ]
    },
    {
      "cell_type": "code",
      "metadata": {
        "colab": {
          "base_uri": "https://localhost:8080/"
        },
        "id": "eAkcOeKzbA6N",
        "outputId": "94a70cef-38a4-45b0-abcd-ac9f9d9badd7"
      },
      "source": [
        "meanAbErr = metrics.mean_absolute_error(y_test, y_pred_mlr)\n",
        "meanSqErr = metrics.mean_squared_error(y_test, y_pred_mlr)\n",
        "rootMeanSqErr = np.sqrt(metrics.mean_squared_error(y_test, y_pred_mlr))\n",
        "print('R squared: {:.2f}'.format(mlr.score(x,y)*100))\n",
        "print('Mean Absolute Error:', meanAbErr)\n",
        "print('Mean Square Error:', meanSqErr)\n",
        "print('Root Mean Square Error:', rootMeanSqErr)"
      ],
      "execution_count": null,
      "outputs": [
        {
          "output_type": "stream",
          "name": "stdout",
          "text": [
            "R squared: 51.37\n",
            "Mean Absolute Error: 42.002427955158495\n",
            "Mean Square Error: 2687.151642788792\n",
            "Root Mean Square Error: 51.83774341914192\n"
          ]
        }
      ]
    },
    {
      "cell_type": "markdown",
      "metadata": {
        "id": "UxTkyhqvwJq6"
      },
      "source": [
        "Since the r squared value is so low and the mean square error and root mean square error are so high, that means our model is not very accurate. We can see this illustrated in the table comparing actual values to predicted values. "
      ]
    },
    {
      "cell_type": "markdown",
      "metadata": {
        "id": "vQAq0qEEwLH2"
      },
      "source": [
        "Regression line formula: y = 153.756 - 25.02(age) -205(sex) + 572.7(bmi) + 308.5(bp) - 1000.92(s1) + 606.54(s2) + 207.4(s3) + 135.22(s4) + 902.97(s5) + 55.52(s6)"
      ]
    },
    {
      "cell_type": "markdown",
      "metadata": {
        "id": "5ghaaSX9wPJg"
      },
      "source": [
        "We should not accept this model because the r squared value is extremely low, and the mean square error and root mean square errors are extremely high."
      ]
    },
    {
      "cell_type": "markdown",
      "metadata": {
        "id": "yHNq6vQ0bL84"
      },
      "source": [
        "##Multiple Linear Regression Model 2 <br>\n",
        "For the following Regression Model, we ommit values s2-s6. This gives us an understanding of the data without any collineated independent variables."
      ]
    },
    {
      "cell_type": "code",
      "metadata": {
        "id": "VCiGhAoasRFR"
      },
      "source": [
        "#set values for x and y\n",
        "x = df[['age','sex','bmi','bp','s1']].astype(float)\n",
        "y = diabetes['target'].astype(float)"
      ],
      "execution_count": null,
      "outputs": []
    },
    {
      "cell_type": "code",
      "metadata": {
        "id": "-Ru97Xsk2E_1"
      },
      "source": [
        "# Split the data into training/testing sets\n",
        "x_train, x_test, y_train, y_test = train_test_split(x, y ,test_size = 0.3, random_state = 100)"
      ],
      "execution_count": null,
      "outputs": []
    },
    {
      "cell_type": "code",
      "metadata": {
        "colab": {
          "base_uri": "https://localhost:8080/"
        },
        "id": "VsxQNSM42HJ8",
        "outputId": "0ee75b88-e565-4f09-d5f5-1fdc8ecf7d9f"
      },
      "source": [
        "#create a multiple linear regression model\n",
        "mlr = LinearRegression()\n",
        "mlr.fit(x_train,y_train)\n",
        "\n",
        "print(\"Intercept: \", mlr.intercept_)\n",
        "print(\"Coefficients:\")\n",
        "list(zip(x, mlr.coef_))"
      ],
      "execution_count": null,
      "outputs": [
        {
          "output_type": "stream",
          "name": "stdout",
          "text": [
            "Intercept:  153.5853303837561\n",
            "Coefficients:\n"
          ]
        },
        {
          "output_type": "execute_result",
          "data": {
            "text/plain": [
              "[('age', 23.118799367026906),\n",
              " ('sex', -104.1682360991473),\n",
              " ('bmi', 830.9772912137311),\n",
              " ('bp', 396.8731794479228),\n",
              " ('s1', 48.476691749610524)]"
            ]
          },
          "metadata": {},
          "execution_count": 66
        }
      ]
    },
    {
      "cell_type": "code",
      "metadata": {
        "colab": {
          "base_uri": "https://localhost:8080/"
        },
        "id": "N_kl-96Q2Kbm",
        "outputId": "eb86b688-7020-49eb-e52f-868520bc40bf"
      },
      "source": [
        "#Prediction of test set\n",
        "y_pred_mlr= mlr.predict(x_test)\n",
        "#Predicted values\n",
        "print(\"Prediction for test set: {}\".format(y_pred_mlr))"
      ],
      "execution_count": null,
      "outputs": [
        {
          "output_type": "stream",
          "name": "stdout",
          "text": [
            "Prediction for test set: [ 87.7205623   54.48875359 181.95113322  76.65577016 144.40291393\n",
            " 149.13513447  97.85225543 213.44242749 110.95652009 222.32780145\n",
            " 174.40156932 190.54525451 225.58320258 228.51180046  94.66115656\n",
            " 132.59900847  62.55045334 123.4012803  189.04321219 186.11598525\n",
            " 230.62063921 216.36274983  90.22230605 176.53248064 210.31294629\n",
            "  90.35712192 279.95452138 129.37544734 184.72507356 166.52650889\n",
            " 138.35881845 179.96415479 128.62920461  98.84892713 123.25246251\n",
            " 182.45996386 226.79780359 138.88103562 195.45787548 239.04009512\n",
            "  97.39002496 190.51435228  75.82407488 142.31135759  91.76213621\n",
            " 138.73597428 182.12298552  75.04620081 234.5848406  163.19688428\n",
            " 228.74292346 101.39495535 179.52701294 132.25444401 111.98811316\n",
            " 142.04820751  47.19009808 276.04123138 119.85836517  92.30676389\n",
            " 123.97173198 110.53642235 179.03622566 201.38745404 179.56704159\n",
            " 142.87652857 114.978818   121.78861379  69.08317734 157.61932545\n",
            " 110.23395192  82.78123179  99.77020984 179.86406178 114.04180258\n",
            " 146.7344792  130.61632353 104.55990731 119.30473984  75.57249327\n",
            " 126.41140834 113.22616444 126.53808032 111.0224465  116.09222904\n",
            " 149.43481224 167.63303249 103.25433075  40.89057846 111.34615486\n",
            " 163.67078978 139.68761319  83.89040769 252.23436296  74.1267229\n",
            " 189.11810106  78.23974367 187.57586234 176.56282723 129.56769823\n",
            " 109.58772555 193.77223052 111.2146765  115.07074386 136.60082233\n",
            " 132.5843468  135.96898415 169.29938992 263.15186237  99.52852907\n",
            " 146.40668984 153.83762383 114.38791148 190.278466   179.09407366\n",
            " 131.83837856 156.783192   137.63369277  61.38956885 131.83191636\n",
            " 177.28594821 231.61582995 140.70122586 191.46661417 225.9315277\n",
            " 122.83251326 239.86610353 191.44921942 189.17360236 111.12497353\n",
            " 179.74235751 183.32211915 297.22798647]\n"
          ]
        }
      ]
    },
    {
      "cell_type": "code",
      "metadata": {
        "colab": {
          "base_uri": "https://localhost:8080/",
          "height": 206
        },
        "id": "X2idlSrJ2Np-",
        "outputId": "796e62d9-34bd-4b5d-e515-4b4cb7835ba7"
      },
      "source": [
        "#Actual value and the predicted value\n",
        "mlr_diff = pd.DataFrame({'Actual value': y_test, 'Predicted value': y_pred_mlr})\n",
        "mlr_diff.head()"
      ],
      "execution_count": null,
      "outputs": [
        {
          "output_type": "execute_result",
          "data": {
            "text/html": [
              "<div>\n",
              "<style scoped>\n",
              "    .dataframe tbody tr th:only-of-type {\n",
              "        vertical-align: middle;\n",
              "    }\n",
              "\n",
              "    .dataframe tbody tr th {\n",
              "        vertical-align: top;\n",
              "    }\n",
              "\n",
              "    .dataframe thead th {\n",
              "        text-align: right;\n",
              "    }\n",
              "</style>\n",
              "<table border=\"1\" class=\"dataframe\">\n",
              "  <thead>\n",
              "    <tr style=\"text-align: right;\">\n",
              "      <th></th>\n",
              "      <th>Actual value</th>\n",
              "      <th>Predicted value</th>\n",
              "    </tr>\n",
              "  </thead>\n",
              "  <tbody>\n",
              "    <tr>\n",
              "      <th>0</th>\n",
              "      <td>42.0</td>\n",
              "      <td>87.720562</td>\n",
              "    </tr>\n",
              "    <tr>\n",
              "      <th>1</th>\n",
              "      <td>72.0</td>\n",
              "      <td>54.488754</td>\n",
              "    </tr>\n",
              "    <tr>\n",
              "      <th>2</th>\n",
              "      <td>139.0</td>\n",
              "      <td>181.951133</td>\n",
              "    </tr>\n",
              "    <tr>\n",
              "      <th>3</th>\n",
              "      <td>74.0</td>\n",
              "      <td>76.655770</td>\n",
              "    </tr>\n",
              "    <tr>\n",
              "      <th>4</th>\n",
              "      <td>109.0</td>\n",
              "      <td>144.402914</td>\n",
              "    </tr>\n",
              "  </tbody>\n",
              "</table>\n",
              "</div>"
            ],
            "text/plain": [
              "   Actual value  Predicted value\n",
              "0          42.0        87.720562\n",
              "1          72.0        54.488754\n",
              "2         139.0       181.951133\n",
              "3          74.0        76.655770\n",
              "4         109.0       144.402914"
            ]
          },
          "metadata": {},
          "execution_count": 68
        }
      ]
    },
    {
      "cell_type": "code",
      "metadata": {
        "colab": {
          "base_uri": "https://localhost:8080/"
        },
        "id": "koOJpzm82Yl-",
        "outputId": "d7e6b4e8-aa6c-44e1-9b4f-952d34c3cad7"
      },
      "source": [
        "meanAbErr = metrics.mean_absolute_error(y_test, y_pred_mlr)\n",
        "meanSqErr = metrics.mean_squared_error(y_test, y_pred_mlr)\n",
        "rootMeanSqErr = np.sqrt(metrics.mean_squared_error(y_test, y_pred_mlr))\n",
        "print('R squared: {:.2f}'.format(mlr.score(x,y)*100))\n",
        "print('Mean Absolute Error:', meanAbErr)\n",
        "print('Mean Square Error:', meanSqErr)\n",
        "print('Root Mean Square Error:', rootMeanSqErr)"
      ],
      "execution_count": null,
      "outputs": [
        {
          "output_type": "stream",
          "name": "stdout",
          "text": [
            "R squared: 39.97\n",
            "Mean Absolute Error: 46.43158349701737\n",
            "Mean Square Error: 3218.553358595357\n",
            "Root Mean Square Error: 56.732295551963674\n"
          ]
        }
      ]
    },
    {
      "cell_type": "markdown",
      "metadata": {
        "id": "vCNJgas6wQ3r"
      },
      "source": [
        "The r squared value for this regression model is even smaller than it was for the previous regression model, and the mean square error and root mean square error are even higher than in the previous regression model. Therefore, this regression model is highly inaccurate."
      ]
    },
    {
      "cell_type": "markdown",
      "metadata": {
        "id": "qpIouVQfwSpH"
      },
      "source": [
        "Regression line formula: y = 153.585 + 23.12(age) - 104.17(sex) + 830.98(bmi) + 396.87(bp) + 48.48(s1)"
      ]
    },
    {
      "cell_type": "markdown",
      "metadata": {
        "id": "AODGN4U93gSk"
      },
      "source": [
        "We should not accept this model because it is highly inaccurate due to the r squared value being extremely low, and the mean square error and root mean square errors being extremely high."
      ]
    },
    {
      "cell_type": "markdown",
      "metadata": {
        "id": "MQXEaS2J-AdW"
      },
      "source": [
        "#Conclusions <br>\n",
        "The linear regression models in this lab were inaccurate and therefore unsuccessful at answering the business question. The r squared value of all the models was very low while the mean square error and root mean square errors were all very high. If we were to continue analyzing this data, it might be best to use different models, or we could try more regression models after eliminating outliers or changing the independent variables that we include. "
      ]
    }
  ]
}